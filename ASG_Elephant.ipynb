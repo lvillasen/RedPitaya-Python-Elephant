{
 "cells": [
  {
   "cell_type": "markdown",
   "metadata": {},
   "source": [
    "# Python Scripts to Control the ASG Module\n",
    "\n",
    "As it is well known, Python can be used to access the RedPitaya registers by using the *periphery module*. We will show how to  control the ASG module on the RedPitaya using only simple Python scripts.  This may not be a good approach when fast-response applications, however these scripts may help us to grasp some details of the operation of the RedPitaya board. \n",
    "\n",
    "## HW Configuration \n",
    "\n",
    "Connect IN1 to OUT1 on your RedPitaya board and the range jumper on IN1 to LV. If the *periphery* module is nor installed you may install it with the *!pip install periphery* command line on a new cell.\n",
    "\n",
    "We will make extensive use the RedPitaya memory map, it  may be consulted here:"
   ]
  },
  {
   "cell_type": "code",
   "execution_count": null,
   "metadata": {
    "collapsed": true,
    "executionInfo": {
     "elapsed": 204,
     "status": "ok",
     "timestamp": 1659826261487,
     "user": {
      "displayName": "Luis Villasenor",
      "userId": "01803698203534667062"
     },
     "user_tz": 300
    },
    "id": "9vtGiyoLT3Vn"
   },
   "outputs": [],
   "source": [
    "from IPython.display import IFrame\n",
    "IFrame(\"https://redpitaya.readthedocs.io/en/latest/developerGuide/software/build/fpga/regset_common.html\", width=900, height=300)"
   ]
  },
  {
   "cell_type": "markdown",
   "metadata": {
    "id": "83em7p4rVXIC"
   },
   "source": [
    "## LED Blinking\n",
    "\n",
    "If your board is connected the following script should blink the LEDs with the binary number 15 (00001111)."
   ]
  },
  {
   "cell_type": "code",
   "execution_count": null,
   "metadata": {
    "collapsed": true,
    "id": "v7SmyQIKUAm1"
   },
   "outputs": [],
   "source": [
    "#!/usr/bin/python\n",
    "###################################inputs \n",
    "DATA = 15\n",
    "###################################\n",
    "from periphery import MMIO\n",
    "import time\n",
    "REGISTER_ADDRESS = 0x40000000 # Housekeeping\n",
    "OFFSET = 0x30 # 0x30 LED control\n",
    "ADDRESS_RANGE = 0x2 # LEDs 7-0 7:0 R/W\n",
    "IP_BASE_ADDRESS = REGISTER_ADDRESS  + OFFSET\n",
    "ADDRESS_OFFSET = 0\n",
    "period = 1 # seconds\n",
    "total = 5 # seconds\n",
    "regset_gen = MMIO(IP_BASE_ADDRESS, ADDRESS_RANGE)\n",
    "print(\"Blinking LED pattern %2d, i.e, %s, for %2d seconds\" % (DATA, bin(DATA).replace(\"0b\", \"\"), total))\n",
    "for i in range(total):\n",
    "    time.sleep(period/2.0)\n",
    "    regset_gen.write16(ADDRESS_OFFSET,DATA)\n",
    "    time.sleep(period/2.0)\n",
    "    regset_gen.write16(ADDRESS_OFFSET,0)\n",
    "regset.close()"
   ]
  },
  {
   "cell_type": "markdown",
   "metadata": {
    "id": "BnbYK-HxVZhN"
   },
   "source": [
    "## Read and Write to Registers\n",
    "\n",
    "In general, to write data to the registers just pass the hex number of the register to the IP_BASE_ADDRESS variable and set the ADDRESS_RANGE and ADDRESS_OFFSET variables. For instance to write the 16-bit number 8 to the LED control register:"
   ]
  },
  {
   "cell_type": "code",
   "execution_count": null,
   "metadata": {
    "collapsed": true,
    "id": "8EU564LhUA3J"
   },
   "outputs": [],
   "source": [
    "# monitor.py\n",
    "#!/usr/bin/python\n",
    "###################################inputs \n",
    "IP_BASE_ADDRESS = 0x40000030 # LED control\n",
    "#DATA = \"\" # read\n",
    "DATA = 8 # write\n",
    "###################################\n",
    "from periphery import MMIO\n",
    "import time\n",
    "ADDRESS_RANGE = 0x2\n",
    "ADDRESS_OFFSET = 0\n",
    "regset_gen = MMIO(IP_BASE_ADDRESS, ADDRESS_RANGE)\n",
    "if (DATA==\"\"): # read\n",
    "    val = regset_gen.read16(ADDRESS_OFFSET)\n",
    "    print(\"Read: %2d\" % (val))\n",
    "else: # write\n",
    "    regset_gen.write16(ADDRESS_OFFSET,DATA)\n",
    "    print(\"Wrote: %2d\" % (DATA))\n",
    "regset.close()"
   ]
  },
  {
   "cell_type": "markdown",
   "metadata": {},
   "source": [
    "To read the same register just comment out the line  DATA = 8 # write"
   ]
  },
  {
   "cell_type": "code",
   "execution_count": null,
   "metadata": {
    "collapsed": true
   },
   "outputs": [],
   "source": [
    "# monitor.py\n",
    "#!/usr/bin/python\n",
    "###################################inputs \n",
    "IP_BASE_ADDRESS = 0x40000030 # LED control\n",
    "DATA = \"\" # read\n",
    "#DATA = 8 # write\n",
    "###################################\n",
    "from periphery import MMIO\n",
    "import time\n",
    "ADDRESS_RANGE = 0x2\n",
    "ADDRESS_OFFSET = 0\n",
    "regset_gen = MMIO(IP_BASE_ADDRESS, ADDRESS_RANGE)\n",
    "if (DATA==\"\"): # read\n",
    "    val = regset_gen.read16(ADDRESS_OFFSET)\n",
    "    print(\"Read: %2d\" % (val))\n",
    "else: # write\n",
    "    regset_gen.write16(ADDRESS_OFFSET,DATA)\n",
    "    print(\"Wrote: %2d\" % (DATA))\n",
    "regset.close()"
   ]
  },
  {
   "cell_type": "markdown",
   "metadata": {
    "id": "6P7VnIp9VbLJ"
   },
   "source": [
    "\n",
    "For instance to set the decimation value for the Oscilloscope module:\n"
   ]
  },
  {
   "cell_type": "code",
   "execution_count": null,
   "metadata": {
    "collapsed": true,
    "id": "O1SeKV2SUA9X"
   },
   "outputs": [],
   "source": [
    "#!/usr/bin/python\n",
    "# set decimation\n",
    "# Sample rate decimation is an integer in range [1, 2**17] = [1, 131072]\n",
    "# Data decimation, supports only this values: 1,8, 64,1024,8192,65536. \n",
    "# If other value is written data will NOT be correct.\n",
    "###################################inputs\n",
    "from periphery import MMIO\n",
    "DATA = 8 # write decimation value\n",
    "###################################\n",
    "REGISTER_ADDRESS = 0x40100000 # Oscilloscope\n",
    "OFFSET = 0x14 # Data decimation\n",
    "ADDRESS_RANGE = 0x4 # 16:0 R/W\n",
    "IP_BASE_ADDRESS = REGISTER_ADDRESS  + OFFSET\n",
    "ADDRESS_OFFSET = 0\n",
    "print(\"IP_BASE_ADDRESS = \", hex(IP_BASE_ADDRESS))\n",
    "regset = MMIO(IP_BASE_ADDRESS, ADDRESS_RANGE)\n",
    "\n",
    "regset.write16(ADDRESS_OFFSET,DATA)\n",
    "print(\"Wrote: \",DATA)\n",
    "regset.close()"
   ]
  },
  {
   "cell_type": "markdown",
   "metadata": {
    "id": "5a4E3ty7VcXq"
   },
   "source": [
    "## Conversion from Volts to ADC Counts\n",
    "\n",
    "To convert values in volts to ADC counts (in two´s complement format) we can use the following script."
   ]
  },
  {
   "cell_type": "code",
   "execution_count": null,
   "metadata": {
    "collapsed": true,
    "id": "ppRu-BZvUBDO"
   },
   "outputs": [],
   "source": [
    "#!/usr/bin/python\n",
    "###################################inputs\n",
    "DATA_VOLT = .0472 # Volt\n",
    "LV = True # +- 1 V\n",
    "#LV = False # +- 20 V, Select one\n",
    "###################################\n",
    "\n",
    "import numpy as np\n",
    "\n",
    "if (LV==True):\n",
    "    if (DATA_VOLT > 1): DATA_VOLT = 1\n",
    "    if (DATA_VOLT < -1): DATA_VOLT = -1\n",
    "    if (DATA_VOLT>=0):\n",
    "        DATA = int(np.round((DATA_VOLT)*2**13))-1\n",
    "    else:\n",
    "        DATA = int(np.round((1+DATA_VOLT)*2**13)+2**13) \n",
    "    \n",
    "else:\n",
    "    if (DATA_VOLT > 20): DATA_VOLT = 20\n",
    "    if (DATA_VOLT < -20): DATA_VOLT = -20\n",
    "    if (DATA_VOLT>=0):\n",
    "        DATA = int(np.round((DATA_VOLT/20)*2**13))-1\n",
    "    else: \n",
    "        DATA = int(np.round((1+DATA_VOLT/20)*2**13)+2**13) \n",
    "    \n",
    "\n",
    "print(\"DATA_VOLT = %4f = %5d ADC COUNTS = %s = %s for LV = %s\" % (DATA_VOLT,DATA,hex(DATA), bin(DATA).replace(\"0b\", \"\"),bool(LV)))\n",
    "print(\"If the value in volts is negative then ADC counts is greater than or equal to%5d \" %(2**13))\n",
    "\n"
   ]
  },
  {
   "cell_type": "markdown",
   "metadata": {
    "id": "6wArAW-hVdqU"
   },
   "source": [
    "## Conversion from ADC Counts to Volts \n",
    "\n",
    "To convert from ADC counts to volts we will use the code: "
   ]
  },
  {
   "cell_type": "code",
   "execution_count": null,
   "metadata": {
    "collapsed": true,
    "id": "8oZkF4KFUBIU"
   },
   "outputs": [],
   "source": [
    "#!/usr/bin/python\n",
    "###################################inputs\n",
    "DATA = 15995 # ADC counts\n",
    "LV = True # +- 1 V\n",
    "HV = False # +- 20 V, Select one\n",
    "###################################\n",
    "if (DATA > 2**14-1): DATA = 2**14-1\n",
    "if (DATA < 0): DATA = 0\n",
    "if (LV==True): \n",
    "    if (DATA < 2**13):\n",
    "        DATA_VOLT = (DATA+1)/2**13 \n",
    "    if (DATA >= 2**13):\n",
    "        DATA_VOLT =  (DATA-2**13)/2**13 -1\n",
    "if (HV == True):\n",
    "    if (DATA< 2**13):\n",
    "        DATA_VOLT = 20*(DATA-1)/2**13 \n",
    "    if (DATA >= 2**13):\n",
    "        DATA_VOLT =  20*(DATA-2**13)/2**13 -1\n",
    "    \n",
    "print(\"If ADC counts is greater than or equal to%5d then the value in volts is negative\" % (2**13))\n",
    "print(\"%5d ADC COUNTS = %4f Volts for LV = %s\" % (DATA,DATA_VOLT,bool(LV)))\n"
   ]
  },
  {
   "cell_type": "markdown",
   "metadata": {
    "id": "CKxXeQsPVe1y"
   },
   "source": [
    "## Setting a Trigger Threshold\n",
    "\n",
    "Therefore to set the trigger threshold we can use:"
   ]
  },
  {
   "cell_type": "code",
   "execution_count": null,
   "metadata": {
    "collapsed": true,
    "id": "_ceAMFd2UBNi"
   },
   "outputs": [],
   "source": [
    "#!/usr/bin/python\n",
    "###################################inputs\n",
    "CHANNEL = 1 # 1 or 2\n",
    "DATA = .5 # In Volts or ADC counts\n",
    "Volt = True;\n",
    "# Volt = False; Select one\n",
    "LV = True # +- 1 V\n",
    "#LV = False # +- 20 V, Select one\n",
    "###################################\n",
    "from periphery import MMIO\n",
    "import numpy as np\n",
    "if (Volt == True):\n",
    "    DATA_VOLT = DATA\n",
    "    if (LV==True):\n",
    "        if (DATA_VOLT > 1): DATA_VOLT = 1\n",
    "        if (DATA_VOLT < -1): DATA_VOLT = -1\n",
    "        if (DATA_VOLT>=0):\n",
    "            DATA = int(np.round((DATA_VOLT)*2**13))-1\n",
    "        else:\n",
    "            DATA = int(np.round((1+DATA_VOLT)*2**13)+2**13) \n",
    "    else:\n",
    "        if (DATA_VOLT > 20): DATA_VOLT = 20\n",
    "        if (DATA_VOLT < -20): DATA_VOLT = -20\n",
    "        if (DATA_VOLT>=0):\n",
    "            DATA = int(np.round((DATA_VOLT/20)*2**13))-1\n",
    "        else: \n",
    "            DATA = int(np.round((1+DATA_VOLT/20)*2**13)+2**13) \n",
    "if (DATA > 2**14-1): DATA = 2**14-1\n",
    "if (DATA < 0): DATA = 0\n",
    "REGISTER_ADDRESS = 0x40100000 # Oscilloscope\n",
    "OFFSET_A = 0x8 # Ch A threshold\n",
    "OFFSET_B = 0xC # Ch B threshold\n",
    "if (CHANNEL ==1) : OFFSET = OFFSET_A\n",
    "elif (CHANNEL ==2) : OFFSET = OFFSET_B\n",
    "ADDRESS_RANGE = 0x4 # 13:0 R/W\n",
    "IP_BASE_ADDRESS = REGISTER_ADDRESS  + OFFSET\n",
    "ADDRESS_OFFSET = 0\n",
    "print(\"IP_BASE_ADDRESS = \", hex(IP_BASE_ADDRESS))\n",
    "regset_gen = MMIO(IP_BASE_ADDRESS, ADDRESS_RANGE)\n",
    "regset_gen.write16(ADDRESS_OFFSET,DATA)\n",
    "print(\"Wrote: \",DATA)\n",
    "val = regset_gen.read16(ADDRESS_OFFSET)\n",
    "print(\"Read: %2d\" % (val))\n",
    "regset.close()"
   ]
  },
  {
   "cell_type": "markdown",
   "metadata": {
    "id": "Rp-5cIPBVgMu"
   },
   "source": [
    "## Bash Commands\n",
    "\n",
    "We can execute bash commands in jupyter cells. For instance, to get the current working directory on the RedPitaya¶\n"
   ]
  },
  {
   "cell_type": "code",
   "execution_count": null,
   "metadata": {
    "collapsed": true,
    "id": "x1EC0N5QUBSw"
   },
   "outputs": [],
   "source": [
    "import os \n",
    "cwd = os.getcwd() \n",
    "print(\"Current working directory:\", cwd) "
   ]
  },
  {
   "cell_type": "markdown",
   "metadata": {
    "id": "SZrX2cgYVhJi"
   },
   "source": [
    "To change directory"
   ]
  },
  {
   "cell_type": "code",
   "execution_count": null,
   "metadata": {
    "collapsed": true,
    "id": "Bt4RMv6VUBX8"
   },
   "outputs": [],
   "source": [
    "import os \n",
    "os.chdir('../') \n",
    "cwd = os.getcwd() \n",
    "print(\"Current working directory:\", cwd) "
   ]
  },
  {
   "cell_type": "markdown",
   "metadata": {
    "id": "4xlguogFViGk"
   },
   "source": [
    "To check the arguments that any particular command line accepts:¶"
   ]
  },
  {
   "cell_type": "code",
   "execution_count": null,
   "metadata": {
    "collapsed": true,
    "id": "_6fWNP8TUBdq"
   },
   "outputs": [],
   "source": [
    "!acquire"
   ]
  },
  {
   "cell_type": "code",
   "execution_count": null,
   "metadata": {
    "collapsed": true,
    "id": "yxcRDhnkUBgR"
   },
   "outputs": [],
   "source": [
    "!generate"
   ]
  },
  {
   "cell_type": "markdown",
   "metadata": {
    "id": "L2P1QOYDVjUv"
   },
   "source": [
    "## Generate a Waveform\n",
    "\n",
    "To generate a sine wave with a frequency of .1 Mhz "
   ]
  },
  {
   "cell_type": "code",
   "execution_count": null,
   "metadata": {
    "collapsed": true,
    "id": "xf7tLuMqUBle"
   },
   "outputs": [],
   "source": [
    "#!/usr/bin/python\n",
    "import subprocess\n",
    "output = subprocess.check_output(\"generate 1 l 100000 sine \", shell=True)"
   ]
  },
  {
   "cell_type": "markdown",
   "metadata": {},
   "source": [
    "or to generate an square wave with a frequency of 1 Mhz. Check that OUT1 is ON and BUST MODE for OUT1 is OFF on the scope app and adjust the trigger in NORMAL mode. Otherwise you may not see the wave. You should see something like ss_sqr.png"
   ]
  },
  {
   "cell_type": "code",
   "execution_count": null,
   "metadata": {
    "collapsed": true,
    "id": "Hy1OkQhVUBoI"
   },
   "outputs": [],
   "source": [
    "!generate 1 l 1000000 sqr"
   ]
  },
  {
   "cell_type": "markdown",
   "metadata": {
    "id": "jGoeBb9ZVkWF"
   },
   "source": [
    "## Acquire a Waveform \n",
    "\n",
    "To acquire and plot data we use the next script. Note that we have the option of calling \"acquire .. -o\" to get the values in volts or \"acquire .. -x\" to get the values in hexadecimal and we can do the conversion ourselves. The result should be the same. First let's acquire the data in volts.\n",
    "\n",
    "\n",
    "Make sure the scope application is running on a separate window so you can see this notebook and the scope at the same time. On the scope make sure the Output1 generator is ON and the BURST MODE of Output1 is OFF. Also check that the trigger is in NORMAL mode. See Fig. ss_acq_1.png\n"
   ]
  },
  {
   "cell_type": "code",
   "execution_count": null,
   "metadata": {
    "collapsed": true,
    "id": "dZENhInrU-ZJ"
   },
   "outputs": [],
   "source": [
    "#!/usr/bin/python\n",
    "import subprocess\n",
    "import matplotlib.pyplot as plt\n",
    "Hex= False\n",
    "Volt = True # acquire 600 1 -o \n",
    "output = subprocess.check_output(\"acquire 600 1 -o \", shell=True)\n",
    "output = output.decode(\"utf-8\")\n",
    "data_r=[]\n",
    "if Volt == True:\n",
    "    data_r=[float(j) for i,j in enumerate(output.split()) if i%2==0]\n",
    "if Hex== True :\n",
    "    for i,j in enumerate(output.split()):\n",
    "        if i%2 == 0:\n",
    "            ##data_r=[int((j[-4:]),16) % 2**14 for i,j in enumerate(output.split()) if i%2==0]\n",
    "            DATA = int((j[-4:]),16) % 2**14\n",
    "            if (DATA < 2**13):\n",
    "                DATA_VOLT = (DATA+1)/2**13 \n",
    "            if (DATA >= 2**13):\n",
    "                DATA_VOLT =  (DATA-2**13)/2**13 -1\n",
    "            data_r.append(DATA_VOLT)\n",
    "\n",
    "#print (data_r)\n",
    "fig = plt.figure(figsize=(10, 6))\n",
    "plt.plot(data_r,'-ob')\n",
    "plt.grid()\n",
    "plt.show()"
   ]
  },
  {
   "cell_type": "markdown",
   "metadata": {},
   "source": [
    "Now in Hex. The result should be the same. See Fig. ss_acq_2.png"
   ]
  },
  {
   "cell_type": "code",
   "execution_count": null,
   "metadata": {
    "collapsed": true
   },
   "outputs": [],
   "source": [
    "#!/usr/bin/python\n",
    "import subprocess\n",
    "import matplotlib.pyplot as plt\n",
    "Hex= True # acquire 600 1 -x\n",
    "Volt = False # acquire 600 1 -o \n",
    "output = subprocess.check_output(\"acquire 600 1 -x \", shell=True)\n",
    "output = output.decode(\"utf-8\")\n",
    "data_r=[]\n",
    "if Volt == True:\n",
    "    data_r=[float(j) for i,j in enumerate(output.split()) if i%2==0]\n",
    "if Hex== True :\n",
    "    for i,j in enumerate(output.split()):\n",
    "        if i%2 == 0:\n",
    "            ##data_r=[int((j[-4:]),16) % 2**14 for i,j in enumerate(output.split()) if i%2==0]\n",
    "            DATA = int((j[-4:]),16) % 2**14\n",
    "            if (DATA < 2**13):\n",
    "                DATA_VOLT = (DATA+1)/2**13 \n",
    "            if (DATA >= 2**13):\n",
    "                DATA_VOLT =  (DATA-2**13)/2**13 -1\n",
    "            data_r.append(DATA_VOLT)\n",
    "\n",
    "#print (data_r)\n",
    "fig = plt.figure(figsize=(10, 6))\n",
    "plt.plot(data_r,'-ob')\n",
    "plt.grid()\n",
    "plt.show()"
   ]
  },
  {
   "cell_type": "markdown",
   "metadata": {},
   "source": [
    "## Sampling Rate\n",
    "\n",
    "Note that the interval between consecutive markers is 8 nanosecond because the RedPitaya sampling rate is 125 MHz and 8 nanosecons is the inverse of 125 000 000 Hz.\n",
    " \n",
    "\n",
    "If we acquire only 300 points we should see 2.4 cycles, i.e. 300*8 ns/(1 microsec). \n",
    "\n",
    "This time we will plot using Bokeh instread of Matplotlib. See Fig. ss_acq_3.png"
   ]
  },
  {
   "cell_type": "code",
   "execution_count": null,
   "metadata": {
    "collapsed": true
   },
   "outputs": [],
   "source": [
    "#!/usr/bin/python\n",
    "from bokeh.resources import INLINE\n",
    "import bokeh.io\n",
    "from bokeh import *\n",
    "bokeh.io.output_notebook(INLINE)\n",
    "import subprocess\n",
    "import matplotlib.pyplot as plt\n",
    "import numpy as np\n",
    "\n",
    "output = subprocess.check_output(\"acquire 300 1 -o \", shell=True)\n",
    "output = output.decode(\"utf-8\")\n",
    "data_r=[float(j) for i,j in enumerate(output.split()) if i%2==0]\n",
    "\n",
    "from bokeh.io import  show\n",
    "from bokeh.plotting import figure\n",
    "x = np.arange(np.size(data_r))\n",
    "y = data_r\n",
    "p = figure(width=800, height=400)\n",
    "p.line(x, y, line_width=2)\n",
    "#to use markers\n",
    "p.circle(x, y, fill_color='green', size=4)\n",
    "\n",
    "show(p)\n"
   ]
  },
  {
   "cell_type": "markdown",
   "metadata": {},
   "source": [
    "\n",
    "# Arbitrary Signal Generator\n",
    "\n",
    "Now we show how to control the Arbitrary Signal Generator. To do so we will use the RedPitaya to draw any function in various modes. The size of the data register id 16K, i.e., 1024*16 = 16,384. \n",
    "\n",
    "## The Elephant\n",
    "\n",
    "Let's pretend, with a lot of imagination, that the following function represents an elephant. See Fig. ss_elephant.png."
   ]
  },
  {
   "cell_type": "code",
   "execution_count": null,
   "metadata": {
    "colab": {
     "base_uri": "https://localhost:8080/",
     "height": 374
    },
    "collapsed": true,
    "executionInfo": {
     "elapsed": 437,
     "status": "ok",
     "timestamp": 1659824232790,
     "user": {
      "displayName": "Luis Villasenor",
      "userId": "01803698203534667062"
     },
     "user_tz": 300
    },
    "id": "433L-aAuUBtz",
    "outputId": "221d7d73-37e0-4d55-e7a2-120c37d169ac"
   },
   "outputs": [],
   "source": [
    "#!/usr/bin/python\n",
    "from bokeh.resources import INLINE\n",
    "import bokeh.io\n",
    "from bokeh import *\n",
    "bokeh.io.output_notebook(INLINE)\n",
    "from bokeh.io import  show\n",
    "from bokeh.plotting import figure\n",
    "def elephant():\n",
    "  Y=[]\n",
    "  w = 2**14\n",
    "  x1 = w/10\n",
    "  x2 = w/2\n",
    "  x3=w\n",
    "  y1 =.8*x1/x1\n",
    "  y21 = 1-np.exp (-x1/(w/5))\n",
    "  y22 = 1-np.exp (-x2/(w/5))\n",
    "  y32 = np.exp(-(x2-.7*w)**2/(w/6)**2)\n",
    "  for x in range(w):\n",
    "    if x<x1: y=.8*x/x1\n",
    "    elif x<x2: y = 1-np.exp (-x/(w/5)) +(y1-y21)\n",
    "    elif x<x3: \n",
    "        y = np.exp(-(x-.7*w)**2/(w/6)**2) -(y32-y22)+(y1-y21)\n",
    "        if x>(w-w/7): y = (x/(w-w/7))*y\n",
    "    Y.append(y-1)\n",
    "  return Y\n",
    "\n",
    "\n",
    "\n",
    "y = elephant()\n",
    "x = np.arange(np.size(y))\n",
    "p = figure(width=800, height=400)\n",
    "p.line(x, y, line_width=2)\n",
    "p.circle(x, y, fill_color='green', size=4)\n",
    "show(p)\n",
    "\n"
   ]
  },
  {
   "cell_type": "markdown",
   "metadata": {},
   "source": [
    "## Turn DAC1 OFF\n",
    "\n",
    "Now we switch off DAC 1 by writing a 1 to bit 7 of the  0x0 Configuration offset of register 0x40200000 (remember that this address is used for the ASG module or check the memory map writeup."
   ]
  },
  {
   "cell_type": "code",
   "execution_count": null,
   "metadata": {
    "collapsed": true
   },
   "outputs": [],
   "source": [
    "# monitor.py\n",
    "#!/usr/bin/python\n",
    "###################################inputs \n",
    "IP_BASE_ADDRESS = 0x40200000 # 0x0 Configuration\n",
    "DATA = 0x80 # write\n",
    "###################################\n",
    "from periphery import MMIO\n",
    "import time\n",
    "ADDRESS_RANGE = 0x2\n",
    "ADDRESS_OFFSET = 0\n",
    "regset = MMIO(IP_BASE_ADDRESS, ADDRESS_RANGE)\n",
    "regset.write16(ADDRESS_OFFSET,DATA)\n",
    "print(\"Wrote: %2d\" % (DATA))\n",
    "val = regset.read16(0)\n",
    "print(\"Read: %2d\" % (val))\n",
    "regset.close()"
   ]
  },
  {
   "cell_type": "markdown",
   "metadata": {},
   "source": [
    "Check on the scope app the Outpu1 stopped. You may change the trigger mode to AUTO to check that the square waveform disappears."
   ]
  },
  {
   "cell_type": "markdown",
   "metadata": {},
   "source": [
    "## Transfer an Arbitrary Waveform to the Memory Data Register\n",
    "\n",
    "To transfer the previous  arbitrary function to the registers of the RedPitaya we use the following code.\n",
    "\n",
    "- Note that we need to convert from volts to ADC values."
   ]
  },
  {
   "cell_type": "code",
   "execution_count": null,
   "metadata": {
    "collapsed": true
   },
   "outputs": [],
   "source": [
    "#!/usr/bin/python\n",
    "###################################inputs\n",
    "CHANNEL = 1 # 1 or 2\n",
    "Volt = True;\n",
    "# Volt = False; Select one\n",
    "LV = True # +- 1 V\n",
    "#LV = False # +- 20 V, Select one\n",
    "###################################\n",
    "from periphery import MMIO\n",
    "import numpy as np\n",
    "REGISTER_ADDRESS = 0x40200000 # ASG\n",
    "\n",
    "\n",
    "\n",
    "ADDRESS_RANGE = 0x2\n",
    "regset = MMIO(IP_BASE_ADDRESS, ADDRESS_RANGE)\n",
    "regset.write16(0,0x80)   # DAC1 off\n",
    "\n",
    "OFFSET = 0x10000 # Ch A memory data (16k samples)\n",
    "ADDRESS_RANGE = 0x1FFFC - 0x10000 # 65532 = 16k * 4\n",
    "IP_BASE_ADDRESS = REGISTER_ADDRESS  + OFFSET\n",
    "regset = MMIO(IP_BASE_ADDRESS, ADDRESS_RANGE)\n",
    "V_ASG = elephant()\n",
    "for adr in range(0,0x1FFFC-0x10000,0x4): # 65532\n",
    "    i=int(adr/4)\n",
    "    if (Volt == True):\n",
    "        DATA_VOLT = V_ASG[i]\n",
    "        if (LV==True):\n",
    "            if (DATA_VOLT > 1): DATA_VOLT = 1\n",
    "            if (DATA_VOLT < -1): DATA_VOLT = -1\n",
    "            if (DATA_VOLT>=0):\n",
    "                DATA = int(np.round((DATA_VOLT)*2**13))-1\n",
    "            else:\n",
    "                DATA = int(np.round((1+DATA_VOLT)*2**13)+2**13) \n",
    "        else:\n",
    "            if (DATA_VOLT > 20): DATA_VOLT = 20\n",
    "            if (DATA_VOLT < -20): DATA_VOLT = -20\n",
    "            if (DATA_VOLT>=0):\n",
    "                DATA = int(np.round((DATA_VOLT/20)*2**13))-1\n",
    "            else: \n",
    "                DATA = int(np.round((1+DATA_VOLT/20)*2**13)+2**13) \n",
    "    if (DATA > 2**14-1): DATA = 2**14-1\n",
    "    if (DATA < 0): DATA = 0\n",
    "    regset.write16(adr,DATA)\n",
    "regset.close()"
   ]
  },
  {
   "cell_type": "markdown",
   "metadata": {},
   "source": [
    "Now we restart DAC1 by sending 1 to register 0x40200000 (check the memory map, 1-trig immediately)"
   ]
  },
  {
   "cell_type": "code",
   "execution_count": null,
   "metadata": {
    "collapsed": true
   },
   "outputs": [],
   "source": [
    "# monitor.py\n",
    "#!/usr/bin/python\n",
    "###################################inputs \n",
    "IP_BASE_ADDRESS = 0x40200000 # 0x0 Configuration\n",
    "DATA = 1 # write\n",
    "###################################\n",
    "from periphery import MMIO\n",
    "import time\n",
    "ADDRESS_RANGE = 0x2\n",
    "ADDRESS_OFFSET = 0\n",
    "regset = MMIO(IP_BASE_ADDRESS, ADDRESS_RANGE)\n",
    "regset.write16(ADDRESS_OFFSET,DATA)\n",
    "print(\"Wrote: %2d\" % (DATA))\n",
    "val = regset.read16(0)\n",
    "print(\"Read: %2d\" % (val))\n",
    "regset.close()"
   ]
  },
  {
   "cell_type": "markdown",
   "metadata": {},
   "source": [
    "You should see the elephants on the scope app in continuos mode.\n",
    "\n",
    "## Setting the Waveform Frequency\n",
    "\n",
    "Note that the frequency is the same 1 MHz as before. See Fig. ss_elephants.png\n",
    "\n",
    "## The Ch A Counter Step Register\n",
    "\n",
    "The following script reads the Ch A counter step register."
   ]
  },
  {
   "cell_type": "code",
   "execution_count": null,
   "metadata": {
    "collapsed": true
   },
   "outputs": [],
   "source": [
    "# monitor.py\n",
    "#!/usr/bin/python\n",
    "###################################inputs \n",
    "IP_BASE_ADDRESS = 0x40200010 # Ch A counter step\n",
    "###################################\n",
    "from periphery import MMIO\n",
    "ADDRESS_RANGE = 0x4\n",
    "ADDRESS_OFFSET = 0\n",
    "regset = MMIO(IP_BASE_ADDRESS, ADDRESS_RANGE)\n",
    "step = regset.read32(ADDRESS_OFFSET) % 2**30\n",
    "print(\"Read: %2d\" % (step))\n",
    "regset.close()"
   ]
  },
  {
   "cell_type": "markdown",
   "metadata": {},
   "source": [
    "The frequency,f, is related to the step value read above  according to the following equation:\n",
    "\n",
    "$$ \n",
    "f = \\frac{125 x10^6}{ BufferSize} * \\frac{step} { 2^{16}}\n",
    "$$"
   ]
  },
  {
   "cell_type": "code",
   "execution_count": null,
   "metadata": {
    "collapsed": true
   },
   "outputs": [],
   "source": [
    "BUFFER_SIZE=16384\n",
    "step = 8589935\n",
    "import numpy as np\n",
    "\n",
    "f = (125000000 / BUFFER_SIZE) * (step / 2**16)\n",
    "print(\"Frequency = \",np.round(f), \"Hz\")\n"
   ]
  },
  {
   "cell_type": "markdown",
   "metadata": {},
   "source": [
    "Therefore to calculate the step for a given frequency use the following script, for instance for a frequency of .5 MHz"
   ]
  },
  {
   "cell_type": "code",
   "execution_count": null,
   "metadata": {
    "collapsed": true
   },
   "outputs": [],
   "source": [
    "f = 500000\n",
    "BUFFER_SIZE=16384\n",
    "step = int(2**16 * f /(125000000 / BUFFER_SIZE))\n",
    "print (\"Step =\", step)"
   ]
  },
  {
   "cell_type": "markdown",
   "metadata": {},
   "source": [
    "The step is half the value. \n",
    "\n",
    "\n",
    "Now we stop DAC1, write the new step value and restart DAC1 "
   ]
  },
  {
   "cell_type": "code",
   "execution_count": null,
   "metadata": {
    "collapsed": true
   },
   "outputs": [],
   "source": [
    "# monitor.py\n",
    "#!/usr/bin/python\n",
    "f = 500000 # Hz\n",
    "BUFFER_SIZE=16384\n",
    "step = int(2**16 * f /(125000000 / BUFFER_SIZE))\n",
    "print (\"Step =\", step)\n",
    "###################################inputs \n",
    "IP_BASE_ADDRESS = 0x40200000 # ASG base address\n",
    "###################################\n",
    "from periphery import MMIO\n",
    "ADDRESS_RANGE = 0x14\n",
    "regset = MMIO(IP_BASE_ADDRESS, ADDRESS_RANGE)\n",
    "regset.write16(0,0x80) # Stop DAC1\n",
    "\n",
    "regset.write32(0x10,step) # write new step\n",
    "regset.write16(0,1) # Start DAC1\n",
    "regset.close()\n"
   ]
  },
  {
   "cell_type": "markdown",
   "metadata": {},
   "source": [
    "You should see the waveform with the new frequency of .5 MHz (i.e., period of 2 microseconds). See Fig. ss_elephants_1.png."
   ]
  },
  {
   "cell_type": "markdown",
   "metadata": {},
   "source": [
    "## Burst Mode"
   ]
  },
  {
   "cell_type": "markdown",
   "metadata": {},
   "source": [
    "Now we switch DAC1 to burst mode. \n",
    "\n",
    "According to the memory map writeup, we need to write to the following offset addresses\n",
    "\n",
    "\n",
    "- 0x18 Ch A number of read cycles in one burst (Number of repeats of table readout. 0=infinite 15:0 R/W)\n",
    "\n",
    "\n",
    "- 0x1C Ch A number of burst repetitions  (Number of repetitions. 0=disabled 15:0 R/W)\n",
    "\n",
    "- 0x20 Ch A delay between burst repetitions (Delay between repetitions. Granularity=1us 31:0 R/W)\n",
    "\n",
    "\n",
    "Let's generate 3 elephants, 1 us wide each,  with two replicas delayed 20 microseconds. \n"
   ]
  },
  {
   "cell_type": "code",
   "execution_count": 4,
   "metadata": {
    "collapsed": true
   },
   "outputs": [],
   "source": [
    "# monitor.py\n",
    "#!/usr/bin/python\n",
    "\n",
    "###################################inputs \n",
    "IP_BASE_ADDRESS = 0x40200000 # ASG base address\n",
    "###################################\n",
    "from periphery import MMIO\n",
    "ADDRESS_RANGE = 0x24\n",
    "regset = MMIO(IP_BASE_ADDRESS, ADDRESS_RANGE)\n",
    "regset.write16(0,0x80) # Stop DAC1\n",
    "regset.write16(0x18,3) # number of read cycles in one burst\n",
    "regset.write16(0x1C,2) # number of burst repetitions \n",
    "regset.write32(0x20,20) # delay between burst repetitions \n",
    "regset.write16(0,1) # Start DAC1\n",
    "regset.close()\n"
   ]
  },
  {
   "cell_type": "markdown",
   "metadata": {},
   "source": [
    "We should see a bust of 3 elephants 1us wide each, followed by 2 replicas, each replica  delayed by 20 us. See Fig. ss_elephants_2.png\n",
    "\n",
    "## Trigering\n",
    "\n",
    "You can trigger burst mode manually by clicking the TRIG GEN button on Output1 of the scope app or by software with the following script "
   ]
  },
  {
   "cell_type": "code",
   "execution_count": 13,
   "metadata": {
    "collapsed": true
   },
   "outputs": [],
   "source": [
    "# monitor.py\n",
    "#!/usr/bin/python\n",
    "\n",
    "###################################inputs \n",
    "IP_BASE_ADDRESS = 0x40200000 # ASG base address\n",
    "###################################\n",
    "from periphery import MMIO\n",
    "ADDRESS_RANGE = 0x24\n",
    "regset = MMIO(IP_BASE_ADDRESS, ADDRESS_RANGE)\n",
    "regset.write16(0,0x81) # Stop DAC1\n",
    "regset.write16(0,0x80) # Change trigger mode\n",
    "regset.write16(0,1) # Start DAC1 in 1-trig immediately configuration\n",
    "regset.close()"
   ]
  },
  {
   "cell_type": "markdown",
   "metadata": {},
   "source": [
    "## Returning to Continuous Mode\n",
    "\n",
    "To return to continuous mode just write 0's to the burst registers."
   ]
  },
  {
   "cell_type": "code",
   "execution_count": 14,
   "metadata": {
    "collapsed": true
   },
   "outputs": [],
   "source": [
    "# monitor.py\n",
    "#!/usr/bin/python\n",
    "\n",
    "###################################inputs \n",
    "IP_BASE_ADDRESS = 0x40200000 # ASG base address\n",
    "###################################\n",
    "from periphery import MMIO\n",
    "ADDRESS_RANGE = 0x24\n",
    "regset = MMIO(IP_BASE_ADDRESS, ADDRESS_RANGE)\n",
    "regset.write16(0,0x80) # Stop DAC1\n",
    "regset.write16(0x18,0) # number of read cycles in one burst\n",
    "regset.write16(0x1C,0) # number of burst repetitions \n",
    "regset.write16(0,1) # Start DAC1\n",
    "regset.close()\n"
   ]
  },
  {
   "cell_type": "markdown",
   "metadata": {},
   "source": [
    "In my system when I use the TRIG GEN button the first busts is distorted at its beginning. See Fig. ss_trig_manual.png. This problem does not occur if I start the bust by using the previous script. See Fig. ss_trig_soft.png."
   ]
  },
  {
   "cell_type": "markdown",
   "metadata": {},
   "source": [
    "# Conclusion\n",
    "\n",
    "To put everything together let's suppose we wany to generate a burst consisting of the two exponential functions shown below, see Fig. ss_two_exp.png.\n"
   ]
  },
  {
   "cell_type": "code",
   "execution_count": null,
   "metadata": {
    "collapsed": true
   },
   "outputs": [],
   "source": [
    "#!/usr/bin/python\n",
    "from bokeh.resources import INLINE\n",
    "import bokeh.io\n",
    "from bokeh import *\n",
    "bokeh.io.output_notebook(INLINE)\n",
    "from bokeh.io import  show\n",
    "from bokeh.plotting import figure\n",
    "import numpy as np\n",
    "def wave():\n",
    "    Y=[]\n",
    "    w = 2**14\n",
    "    tau = w/10\n",
    "    x1 = w/2\n",
    "    for x in range(w):\n",
    "        if x<x1:y = np.exp(-x/tau) \n",
    "        else : y = .5*np.exp(-(x-x1)/tau) \n",
    "        Y.append(-y)  \n",
    "    return Y\n",
    "Y = wave()\n",
    "X = np.arange(np.size(Y))\n",
    "p = figure(width=800, height=400)\n",
    "p.line(X, Y, line_width=2)\n",
    "p.circle(X, Y, fill_color='green', size=4)\n",
    "show(p)\n"
   ]
  },
  {
   "cell_type": "markdown",
   "metadata": {},
   "source": [
    "with the following parameters:\n",
    "\n",
    "- frequency : 1 MHz\n",
    "\n",
    "- Two cycles per burst\n",
    "\n",
    "- One replica delayed 10 us\n",
    "\n",
    "- Repeated 10 times at a rate of 1 Hz\n",
    "\n",
    "## Single Script to Generate a Waveform in Burst Mode"
   ]
  },
  {
   "cell_type": "code",
   "execution_count": 9,
   "metadata": {},
   "outputs": [
    {
     "name": "stdout",
     "output_type": "stream",
     "text": [
      "Step = 858993\n"
     ]
    }
   ],
   "source": [
    "#!/usr/bin/python\n",
    "######################################## inputs\n",
    "CHANNEL = 1 # 1 \n",
    "Volt = True;\n",
    "# Volt = False; Select one\n",
    "LV = True # +- 1 V\n",
    "#LV = False # +- 20 V, Select one\n",
    "f = 100000 # Hz\n",
    "n_cycles = 2 # each cycle of 1 us\n",
    "n_replicas = 1\n",
    "delay = 30 # us after the end of the 2 cycles\n",
    "total = 10 # times to repeat burst structure\n",
    "period = 1 # seconds\n",
    "########################################\n",
    "from periphery import MMIO\n",
    "import time\n",
    "import numpy as np\n",
    "IP_BASE_ADDRESS = 0x40200000 # ASG\n",
    "\n",
    "######################################## # define wave\n",
    "\n",
    "def wave():\n",
    "    Y=[]\n",
    "    w = 2**14\n",
    "    tau = w/10\n",
    "    x1 = w/2\n",
    "    for x in range(w):\n",
    "        if x<x1:y = np.exp(-x/tau) \n",
    "        else : y = .5*np.exp(-(x-x1)/tau) \n",
    "        Y.append(-y)  \n",
    "    return Y\n",
    "######################################## Stop DAC1\n",
    "ADDRESS_RANGE = 0x24\n",
    "regset = MMIO(IP_BASE_ADDRESS, ADDRESS_RANGE)\n",
    "regset.write16(0,0x80) # Stop DAC1\n",
    "######################################## calculate step\n",
    "BUFFER_SIZE=16384\n",
    "step = int(2**16 * f /(125000000 / BUFFER_SIZE))\n",
    "print (\"Step =\", step)\n",
    "######################################## write step for appropiate frequency\n",
    "regset.write32(0x10,step) # write new step\n",
    "######################################## configure burst structure \n",
    "regset.write16(0x18,n_cycles) # number of read cycles in one burst\n",
    "regset.write16(0x1C,n_replicas) # number of burst repetitions \n",
    "regset.write32(0x20,delay) # delay between burst repetitions in us\n",
    "######################################## Copy wave to memory register\n",
    "IP_BASE_ADDRESS += 0x10000 # Ch A memory data (16k samples)\n",
    "ADDRESS_RANGE = 0x1FFFC - 0x10000 # 65532 = 16k * 4\n",
    "regset = MMIO(IP_BASE_ADDRESS, ADDRESS_RANGE)\n",
    "V_ASG = wave()\n",
    "for adr in range(0,0x1FFFC-0x10000,0x4): # 65532\n",
    "    i=int(adr/4)\n",
    "    if (Volt == True):\n",
    "        DATA_VOLT = V_ASG[i]\n",
    "        if (LV==True):\n",
    "            if (DATA_VOLT > 1): DATA_VOLT = 1\n",
    "            if (DATA_VOLT < -1): DATA_VOLT = -1\n",
    "            if (DATA_VOLT>=0):\n",
    "                DATA = int(np.round((DATA_VOLT)*2**13))-1\n",
    "            else:\n",
    "                DATA = int(np.round((1+DATA_VOLT)*2**13)+2**13) \n",
    "        else:\n",
    "            if (DATA_VOLT > 20): DATA_VOLT = 20\n",
    "            if (DATA_VOLT < -20): DATA_VOLT = -20\n",
    "            if (DATA_VOLT>=0):\n",
    "                DATA = int(np.round((DATA_VOLT/20)*2**13))-1\n",
    "            else: \n",
    "                DATA = int(np.round((1+DATA_VOLT/20)*2**13)+2**13) \n",
    "    if (DATA > 2**14-1): DATA = 2**14-1\n",
    "    if (DATA < 0): DATA = 0\n",
    "    regset.write16(adr,DATA)\n",
    "######################################## # start DAC1\n",
    "IP_BASE_ADDRESS = 0x40200000 # ASG base address\n",
    "ADDRESS_RANGE = 0x2\n",
    "regset = MMIO(IP_BASE_ADDRESS, ADDRESS_RANGE)\n",
    "######################################## number of triggers\n",
    "\n",
    "for i in range(total):\n",
    "    regset.write16(0,1) # Start DAC1 in 1-trig immediately configuration\n",
    "    time.sleep(period)\n",
    "    regset.write16(0,0)\n",
    "regset.close()\n"
   ]
  },
  {
   "cell_type": "markdown",
   "metadata": {},
   "source": [
    "You should see something similar to ss_two_exp_scope.jpg\n",
    "\n",
    "## The End"
   ]
  }
 ],
 "metadata": {
  "colab": {
   "authorship_tag": "ABX9TyNv0BGQrNPPZX93zBOwB6ov",
   "collapsed_sections": [],
   "name": "Python_MMIO_v8_OK.ipynb",
   "provenance": []
  },
  "kernelspec": {
   "display_name": "Python 3",
   "language": "python",
   "name": "python3"
  },
  "language_info": {
   "codemirror_mode": {
    "name": "ipython",
    "version": 3
   },
   "file_extension": ".py",
   "mimetype": "text/x-python",
   "name": "python",
   "nbconvert_exporter": "python",
   "pygments_lexer": "ipython3",
   "version": "3.5.2"
  }
 },
 "nbformat": 4,
 "nbformat_minor": 1
}
